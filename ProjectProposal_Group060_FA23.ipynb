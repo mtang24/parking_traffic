{
 "cells": [
  {
   "cell_type": "markdown",
   "metadata": {},
   "source": [
    "# COGS 108 - Project Proposal"
   ]
  },
  {
   "cell_type": "markdown",
   "metadata": {},
   "source": [
    "# Names\n",
    "\n",
    "- Haoyu Fu\n",
    "- Qianxia Hui\n",
    "- Arianna Morris\n",
    "- Michael Tang\n",
    "- Bofu Zou"
   ]
  },
  {
   "cell_type": "markdown",
   "metadata": {},
   "source": [
    "# Research Question"
   ]
  },
  {
   "cell_type": "markdown",
   "metadata": {},
   "source": [
    "Does parking occupancy on the UCSD campus predict traffic incidents on major roads near the UCSD campus?"
   ]
  },
  {
   "cell_type": "markdown",
   "metadata": {},
   "source": [
    "## Background and Prior Work"
   ]
  },
  {
   "cell_type": "markdown",
   "metadata": {},
   "source": [
    "\n",
    "- Include a general introduction to your topic\n",
    "- Include explanation of what work has been done previously\n",
    "- Include citations or links to previous work\n",
    "\n",
    "This section will present the background and context of your topic and question in a few paragraphs. Include a general introduction to your topic and then describe what information you currently know about the topic after doing your initial research. Include references to other projects who have asked similar questions or approached similar problems. Explain what others have learned in their projects.\n",
    "\n",
    "Find some relevant prior work, and reference those sources, summarizing what each did and what they learned. Even if you think you have a totally novel question, find the most similar prior work that you can and discuss how it relates to your project.\n",
    "\n",
    "References can be research publications, but they need not be. Blogs, GitHub repositories, company websites, etc., are all viable references if they are relevant to your project. It must be clear which information comes from which references. (2-3 paragraphs, including at least 2 references)\n",
    "\n",
    " **Use inline citation through HTML footnotes to specify which references support which statements** \n",
    "\n",
    "For example: After government genocide in the 20th century, real birds were replaced with surveillance drones designed to look just like birds.<a name=\"cite_ref-1\"></a>[<sup>1</sup>](#cite_note-1) Use a minimum of 2 or 3 citations, but we prefer more.<a name=\"cite_ref-2\"></a>[<sup>2</sup>](#cite_note-2) You need enough to fully explain and back up important facts. \n",
    "\n",
    "Note that if you click a footnote number in the paragraph above it will transport you to the proper entry in the footnotes list below.  And if you click the ^ in the footnote entry, it will return you to the place in the main text where the footnote is made.\n",
    "\n",
    "To understand the HTML here, `<a name=\"#...\"> </a>` is a tag that allows you produce a named reference for a given location.  Markdown has the construciton `[text with hyperlink](#named reference)` that will produce a clickable link that transports you the named reference.\n",
    "\n",
    "1. <a name=\"cite_note-1\"></a> [^](#cite_ref-1) Lorenz, T. (9 Dec 2021) Birds Aren’t Real, or Are They? Inside a Gen Z Conspiracy Theory. *The New York Times*. https://www.nytimes.com/2021/12/09/technology/birds-arent-real-gen-z-misinformation.html \n",
    "2. <a name=\"cite_note-2\"></a> [^](#cite_ref-2) Also refs should be important to the background, not some randomly chosen vaguely related stuff. Include a web link if possible in refs as above.\n"
   ]
  },
  {
   "cell_type": "markdown",
   "metadata": {},
   "source": [
    "# Hypothesis\n"
   ]
  },
  {
   "cell_type": "markdown",
   "metadata": {},
   "source": [
    "We hypothesize that there will be a positive correlation between the number of cars parked on campus and the amount of traffic incidents occurring on and around the UCSD campus. We believe this because more congestion within the campus area could lead to more traffic incidents occurring."
   ]
  },
  {
   "cell_type": "markdown",
   "metadata": {},
   "source": [
    "# Data"
   ]
  },
  {
   "cell_type": "markdown",
   "metadata": {},
   "source": [
    "1. We want two datasets. The first one is about UCSD campus parking occupancy, with variables timestamp, parking lot name and occupancy rate. The second dataset should be the vehicle collision record, with variables timestamp, and collision location. Each dataset should have at least 1000 observations. For the parking data set, daily 1 hour frequent intervals would be ideal.  The preferred data structure is tabular, and it should come from official government or campus sources to ensure its reliability.\n",
    "2. We located two datasets that could potentially work for our proposed project. [One dataset is from UCSD](https://rmp-wapps.ucsd.edu/TS/Survey/Survey%20of%20Parking%20Space%20Occupancy%20Levels/Quarterly%20Tables/Contents.html), and details the amount of parking occupancy available on campus by quarter. The [second data set](https://data.sandiego.gov/datasets/police-collisions-details/) is from the County of San Diego, and details traffic incident information from 2015-2023, which contains 123708 pieces of observations (incidents) total.\n"
   ]
  },
  {
   "cell_type": "markdown",
   "metadata": {},
   "source": [
    "# Ethics & Privacy"
   ]
  },
  {
   "cell_type": "markdown",
   "metadata": {},
   "source": [
    "Our proposed project involves the analysis of data related to parking occupancy on the UCSD campus and traffic incidents on nearby major roads. As we conduct our analysis, we are aware of the importance of ethical standards and privacy concerns. [Deon’s ethics checklist](https://deon.drivendata.org/#data-science-ethics-checklist) provides a useful framework for investigating potential ethics or privacy issues. \n",
    "\n",
    "In order to avoid potential bias within our datasets, we are only utilizing datasets that are public domain and published by reputable sources. For instance, our proposed dataset providing accident information is published by the San Diego government, and our proposed dataset with UCSD parking data is published by UCSD campus authorities. The traffic incident information is not directly collected from individuals, but instead published to public domain at the time of the accident when collected. We acknowledge that some information available in the dataset may be sensitive, though not personally identifying information (PII), and we are excluding this information from our analysis. The parking occupancy data is collected by [“cameras embedded with artificial intelligence”](https://today.ucsd.edu/story/parking-on-campus-theres-an-app-for-that#:~:text=IT%20Services%20enlisted%20student%20developers,which%20parking%20spaces%20are%20available). The parking occupancy data does not collect PII, and no PII information is published with the dataset. \n",
    "\n",
    "We aim to be transparent in our methodology, and will provide a summary and details of the steps we complete in our analysis, as well as any concerns that may arise throughout our process. Our project's primary goal is to contribute positively to public safety and traffic efficiency while minimizing any potential harm.\n"
   ]
  },
  {
   "cell_type": "markdown",
   "metadata": {},
   "source": [
    "# Team Expectations "
   ]
  },
  {
   "cell_type": "markdown",
   "metadata": {},
   "source": [
    "1. Communication through message when we are making changes to the project (on github documents). \n",
    "2. Meet weekly at a time we all agree on\n",
    "3. Equitable contribution\n",
    "    - Each team member working through their portions of the project equally \n",
    "    - If issues arise, communicate sooner than later\n",
    "    - Ask another team member for help/advice if you run into any issues"
   ]
  },
  {
   "cell_type": "markdown",
   "metadata": {},
   "source": [
    "# Project Timeline Proposal"
   ]
  },
  {
   "cell_type": "markdown",
   "metadata": {},
   "source": [
    "| Meeting Date  | Meeting Time| Completed Before Meeting  | Discuss at Meeting |\n",
    "|---|---|---|---|\n",
    "|  10/23  |  5 PM  | Read & think about previous projects given to review; brainstorm topics/questions  | Determine best form of communication; Complete project review; Discuss possible final project topics |\n",
    "|  10/30  |  5 PM  |  Brainstorm final project topics | Decide final project topic and split up work for project proposal |\n",
    "|  11/1  |  5 PM  | Work on project proposal | Finalize and submit final project proposal |\n",
    "|  11/6  |  5 PM  | Have project proposal submitted; Search for datasets  | Discuss Wrangling and possible analytical approaches; Assign group members to lead each specific part |\n",
    "|  11/13  |  5 PM  | Import & Wrangle Data; EDA | Finalize data checkpoint, Review/Edit wrangling/EDA; Discuss Analysis Plan |\n",
    "|  11/20  |  5 PM  | Finalize wrangling/EDA; Begin Analysis | Discuss/edit Analysis; Complete project check-in |\n",
    "|  11/27  |  5 PM  | Complete analysis; Draft results/conclusion/discussion | Finalize EDA checkpoint; Discuss/edit full project |\n",
    "|  12/4  |  5 PM  | NA | Record the Final Project Video |\n"
   ]
  }
 ],
 "metadata": {
  "kernelspec": {
   "display_name": "python3",
   "language": "python",
   "name": "python3"
  }
 },
 "nbformat": 4,
 "nbformat_minor": 2
}
