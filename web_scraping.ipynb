{
 "cells": [
  {
   "cell_type": "markdown",
   "metadata": {},
   "source": [
    "### Running the cell below will download all the parking occupancy excel files from 2016 Fall to 2023 Summer\n",
    "\n",
    "The downloaded file will be saved in the directory named `/data/excels/`, and in the format:\n",
    "\n",
    "`parking_[academic year]_[quarter].xlsx`"
   ]
  },
  {
   "cell_type": "code",
   "execution_count": 1,
   "metadata": {},
   "outputs": [],
   "source": [
    "from bs4 import BeautifulSoup\n",
    "import requests \n",
    "import re\n",
    "import os"
   ]
  },
  {
   "cell_type": "code",
   "execution_count": 2,
   "metadata": {},
   "outputs": [],
   "source": [
    "url = \"https://rmp-wapps.ucsd.edu/TS/Survey/Survey%20of%20Parking%20Space%20Occupancy%20Levels/Quarterly%20Tables/\"\n",
    "html_doc = requests.get(url + \"Contents.html\").text\n",
    "soup = BeautifulSoup(html_doc, 'html.parser')"
   ]
  },
  {
   "cell_type": "code",
   "execution_count": 3,
   "metadata": {},
   "outputs": [],
   "source": [
    "# create the directory /data if not exist\n",
    "try:\n",
    "    os.mkdir('data/')\n",
    "    os.mkdir('data/excels')\n",
    "except FileExistsError:\n",
    "    pass\n",
    "\n",
    "# get all hrefs\n",
    "hrefs = soup.find_all('a')\n",
    "years = list(range(2017, 2025))\n",
    "\n",
    "for h in hrefs:\n",
    "    # filtering out PDFs\n",
    "    if h.get_text() != 'Excel': continue\n",
    "\n",
    "    file_name = h['href']\n",
    "\n",
    "    # filtering out all data before 2016/2017 academic year\n",
    "    if not int(re.findall(r'-(\\S+)-', file_name)[0]) in years: continue\n",
    "\n",
    "    # download the file\n",
    "    path = url+file_name\n",
    "    r = requests.get(path, allow_redirects=True)\n",
    "\n",
    "    # rename and save the file\n",
    "    year = re.findall(r'%([\\S\\-]+)%', file_name)[0].split('-')[1]\n",
    "    quarter = re.findall(r'20([A-z]+).', file_name)[0]\n",
    "    out = \"data/excels/parking_\"+str(int(year)-1)+\"_\"+str(int(year))+\"_\"+quarter+\".xlsx\"\n",
    "    open(out, \"wb\").write(r.content)"
   ]
  }
 ],
 "metadata": {
  "kernelspec": {
   "display_name": "base",
   "language": "python",
   "name": "python3"
  },
  "language_info": {
   "codemirror_mode": {
    "name": "ipython",
    "version": 3
   },
   "file_extension": ".py",
   "mimetype": "text/x-python",
   "name": "python",
   "nbconvert_exporter": "python",
   "pygments_lexer": "ipython3",
   "version": "3.9.7"
  }
 },
 "nbformat": 4,
 "nbformat_minor": 2
}
