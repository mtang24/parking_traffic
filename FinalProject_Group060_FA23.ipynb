{
 "cells": [
  {
   "cell_type": "markdown",
   "metadata": {},
   "source": [
    "# COGS 108 - Final Project (change this to your project's title)\n",
    "\n",
    "# Permissions\n",
    "\n",
    "Place an `X` in the appropriate bracket below to specify if you would like your group's project to be made available to the public. (Note that student names will be included (but PIDs will be scraped from any groups who include their PIDs).\n",
    "\n",
    "* [  ] YES - make available\n",
    "* [  ] NO - keep private\n",
    "\n",
    "# Names\n",
    "\n",
    "- Haoyu Fu\n",
    "- Qianxia Hui\n",
    "- Arianna Morris\n",
    "- Michael Tang\n",
    "- Bofu Zou\n",
    "\n",
    "# Abstract\n",
    "\n",
    "Please write one to four paragraphs that describe a very brief overview of why you did this, how you did, and the major findings and conclusions."
   ]
  },
  {
   "cell_type": "markdown",
   "metadata": {},
   "source": [
    "# Research Question"
   ]
  },
  {
   "cell_type": "markdown",
   "metadata": {},
   "source": [
    "Does parking occupancy on UCSD's campus predict traffic incidents on major roads near UCSD's campus?"
   ]
  },
  {
   "cell_type": "markdown",
   "metadata": {},
   "source": [
    "## Background and Prior Work"
   ]
  },
  {
   "cell_type": "markdown",
   "metadata": {},
   "source": [
    "Traffic incidents are always a significant concern in modern cities, especially in densely populated areas. As a large institution with a growing population, the University of California, San Diego (UCSD) campus tackles the problems brought by heavy vehicular traffic and parking. As the campus community grows, the parking occupancy rates may reflect the number of traffic incidents happening around the campus area. Our study seeks to find out whether there’s a correlation between the UCSD campus parking occupancy rates and the traffic incidents happening surrounding campus. \n",
    "\n",
    "While our topic is mainly focused on how parking occupancy may predict the occurrence of traffic collisions within the area of UCSD, there have been prior studies that analyze the likelihood of car accidents occurring in a given geographic region. For example, Forbes Advisor compiled a list of the top 50 U.S. cities with the highest likelihood of getting into a car accident, with San Diego being one of them.<a name=\"cite_ref-1\"></a>[<sup>1</sup>](#cite_note-1) This ranking system was determined by data for fatality rate per 100,000 people from the National Highway Transportation Safety Administration and average years between collisions and relative collision likelihood from the AllState Best Drivers Index. This data analysis only focuses on urban cities, which means the dataset is relatively small as only the 50 largest cities by population from census data were chosen. A general understanding of a particular city's collision danger is approximated by comparison to other major cities in the dataset. Forbes Advisor’s primary goal is providing financial advice, which this data analysis does by offering relevant information about collisions that may involve insurance, lawyer/attorney, and risk assessment situations. \n",
    "\n",
    "Another study investigated the causal relationship between road density and parking occupancy.<a name=\"cite_ref-2\"></a>[<sup>2</sup>](#cite_note-2) Tunisian researchers conducted a research paper to investigate the causal relationship between road density and parking occupancy in Tunis city center using Granger causality tests based on vector error correction modeling. The authors collected data using video cameras around a major street in the capital of Tunis, and found that there does exist a causal relationship between road density and parking occupancy, with road density Granger-causing parking occupancy. This suggests that increasing road density may lead to an increase in parking occupancy, which in turn may lead to an increase in road congestion. The authors suggest that their findings can be used to develop more sustainable parking policies that reduce road congestion and can be incorporated into parking models to improve their accuracy and effectiveness. This study provides important insights into the relationship between road density and parking occupancy, and gives us some ideas for our own project since road density and traffic incidents are two significant features of a city’s traffic conditions.\n",
    "\n",
    "Similarly, we want to assess what the general level of safety associated with traffic collisions might be through exploring a more confined geographical area that is of interest to us, UCSD. Based upon these prior works and the UCSD campus parking occupancy and nearby traffic incidence data, our project aims to identify patterns specific to UCSD campus and its surrounding areas. We will conduct a descriptive and exploratory data analysis of these datasets, which will allow us to identify important features of the datasets and how they may relate to one another. We aim to contribute to the existing literature on road safety and how it impacts us on the UCSD campus. \n",
    "\n",
    "**References:**\n",
    "\n",
    "1. <a name=\"cite_note-1\"></a> [^](#cite_ref-1) Christy Bieber, J. D. (2023, October 25). The cities where you’re most likely to get in a car accident. Forbes. https://www.forbes.com/advisor/legal/auto-accident/cities-most-car-accidents/  \n",
    "2. <a name=\"cite_note-2\"></a> [^](#cite_ref-2) Hassine, S. B., Kooli, E., & Mraihi, R. (2022). The causal relationship between road density and parking occupancy. World Journal of Advanced Research and Reviews, 15(3), 125–134. https://wjarr.com/sites/default/files/WJARR-2022-0896.pdf\n"
   ]
  },
  {
   "cell_type": "markdown",
   "metadata": {},
   "source": [
    "# Hypothesis\n"
   ]
  },
  {
   "cell_type": "markdown",
   "metadata": {},
   "source": [
    "We hypothesize that there will be a positive correlation between the number of cars parked on campus and the amount of traffic incidents occurring on and around the UCSD campus. We believe this because more congestion within the campus area could lead to more traffic incidents occurring."
   ]
  },
  {
   "cell_type": "markdown",
   "metadata": {},
   "source": [
    "# Data"
   ]
  },
  {
   "cell_type": "markdown",
   "metadata": {},
   "source": [
    "## Data overview\n",
    "\n",
    "- Dataset #1\n",
    "  - Dataset Name: Survey of Parking Space Occupancy Levels\n",
    "  - Link to the dataset: https://rmp-wapps.ucsd.edu/TS/Survey/Survey%20of%20Parking%20Space%20Occupancy%20Levels/Quarterly%20Tables/Contents.html \n",
    "  - Number of observations: 93 (quarterly tables)\n",
    "  - Number of variables: 15 (\"University-Wide\" data)\n",
    "\n",
    "There are a total 93 observations in this dataset, with each consisting of the parking occupancy levels of UCSD parking lots of a given quarter at UCSD, from Summer 2000 to Summer 2023. However, we only plan to utilize 29 of the observations, from Summer 2016 to Summer 2023, to stay consistent with the data we have in Dataset #2. We started by scraping the dataset link for the 29 observations we wanted, and combined those 29 observations into one csv file (QbyQ UCSD Parking Occupancy.csv) to make our data analysis easier. For each row (observation) in our csv file, we have 15 columns (variables) which covers information including parking spaces in total, empty parking spaces listed in hourly time, and occupancy proportion at peak time (important feature that could be utilized along with another dataset). The variables all have the same datatype: numerical variables. After creating our own csv file from the weblink, we have a dataset we integrated ourselves, so we didn't need to do much data cleaning. Since we weren't interested in the columns that display parking occupancy in hourly time, we dropped those columns from the dataset.\n",
    "\n",
    "- Dataset #2\n",
    "  - Dataset Name: Traffic collisions details (2015 through year-to-date)\n",
    "  - Link to the dataset: https://data.sandiego.gov/datasets/police-collisions-details/\n",
    "  - Number of observations: 123,708\n",
    "  - Number of variables: 22\n",
    "\n",
    "This dataset encompasses traffic collision details in the San Diego area (including the vicinity of UCSD) from 2015 to the present, with a total of 123,708 observations and 22 variables. The important variables in the dataset include time stamp of the collision, location details, violation type,  number of injuries and fatalities. The data types include categorical variables (violation type), numerical variables (number of injuries and fatalities), and time variables. The dataset can serve as a proxy for understanding traffic conditions and traffic safety in the area. We needed to clean the dataset by filtering location (street names) in the dataset to find collisions that happen on the major streets in UCSD surrounding area. Then we handled missing values, converting data type, and removing irrelevant variables. Additionally, we transformed the ISO 8601 formatted dates into dates that fit into our quarter-by-quarter analysis according to UCSD's quarter dates for the 2016-2023 school years. We then dropped the date_time columns and added our own column with the quarter-formatted dates. We also had to drop rows containing data for the Fall 2023 quarter, as it is still ongoing and it wouldn't make sense to make an analysis on this data."
   ]
  },
  {
   "cell_type": "markdown",
   "metadata": {},
   "source": [
    "## Dataset #1: Quarter by Quarter UCSD Parking Occupancy Dataset"
   ]
  },
  {
   "cell_type": "code",
   "execution_count": 136,
   "metadata": {},
   "outputs": [],
   "source": [
    "import pandas as pd\n",
    "import seaborn as sns\n",
    "import matplotlib.pyplot as plt\n",
    "import numpy as np"
   ]
  },
  {
   "cell_type": "code",
   "execution_count": 2,
   "metadata": {},
   "outputs": [
    {
     "data": {
      "text/html": [
       "<div>\n",
       "<style scoped>\n",
       "    .dataframe tbody tr th:only-of-type {\n",
       "        vertical-align: middle;\n",
       "    }\n",
       "\n",
       "    .dataframe tbody tr th {\n",
       "        vertical-align: top;\n",
       "    }\n",
       "\n",
       "    .dataframe thead th {\n",
       "        text-align: right;\n",
       "    }\n",
       "</style>\n",
       "<table border=\"1\" class=\"dataframe\">\n",
       "  <thead>\n",
       "    <tr style=\"text-align: right;\">\n",
       "      <th></th>\n",
       "      <th>quarter</th>\n",
       "      <th>year</th>\n",
       "      <th>parking_spaces</th>\n",
       "      <th>empty_spaces</th>\n",
       "      <th>occupied_spaces</th>\n",
       "      <th>percent_occupied</th>\n",
       "    </tr>\n",
       "  </thead>\n",
       "  <tbody>\n",
       "    <tr>\n",
       "      <th>0</th>\n",
       "      <td>Summer</td>\n",
       "      <td>2016</td>\n",
       "      <td>19297</td>\n",
       "      <td>6567</td>\n",
       "      <td>12730</td>\n",
       "      <td>65.97%</td>\n",
       "    </tr>\n",
       "    <tr>\n",
       "      <th>1</th>\n",
       "      <td>Fall</td>\n",
       "      <td>2016</td>\n",
       "      <td>19245</td>\n",
       "      <td>3578</td>\n",
       "      <td>15667</td>\n",
       "      <td>81.41%</td>\n",
       "    </tr>\n",
       "    <tr>\n",
       "      <th>2</th>\n",
       "      <td>Winter</td>\n",
       "      <td>2017</td>\n",
       "      <td>18316</td>\n",
       "      <td>2691</td>\n",
       "      <td>15625</td>\n",
       "      <td>85.31%</td>\n",
       "    </tr>\n",
       "    <tr>\n",
       "      <th>3</th>\n",
       "      <td>Spring</td>\n",
       "      <td>2017</td>\n",
       "      <td>18334</td>\n",
       "      <td>3096</td>\n",
       "      <td>15238</td>\n",
       "      <td>83.11%</td>\n",
       "    </tr>\n",
       "    <tr>\n",
       "      <th>4</th>\n",
       "      <td>Summer</td>\n",
       "      <td>2017</td>\n",
       "      <td>18082</td>\n",
       "      <td>5050</td>\n",
       "      <td>13032</td>\n",
       "      <td>72.07%</td>\n",
       "    </tr>\n",
       "    <tr>\n",
       "      <th>5</th>\n",
       "      <td>Fall</td>\n",
       "      <td>2017</td>\n",
       "      <td>18011</td>\n",
       "      <td>2313</td>\n",
       "      <td>15698</td>\n",
       "      <td>87.16%</td>\n",
       "    </tr>\n",
       "    <tr>\n",
       "      <th>6</th>\n",
       "      <td>Winter</td>\n",
       "      <td>2018</td>\n",
       "      <td>18105</td>\n",
       "      <td>2385</td>\n",
       "      <td>15720</td>\n",
       "      <td>86.83%</td>\n",
       "    </tr>\n",
       "    <tr>\n",
       "      <th>7</th>\n",
       "      <td>Spring</td>\n",
       "      <td>2018</td>\n",
       "      <td>18092</td>\n",
       "      <td>2504</td>\n",
       "      <td>15588</td>\n",
       "      <td>86.16%</td>\n",
       "    </tr>\n",
       "    <tr>\n",
       "      <th>8</th>\n",
       "      <td>Summer</td>\n",
       "      <td>2018</td>\n",
       "      <td>17107</td>\n",
       "      <td>4466</td>\n",
       "      <td>12641</td>\n",
       "      <td>74.00%</td>\n",
       "    </tr>\n",
       "    <tr>\n",
       "      <th>9</th>\n",
       "      <td>Fall</td>\n",
       "      <td>2018</td>\n",
       "      <td>17408</td>\n",
       "      <td>3052</td>\n",
       "      <td>14356</td>\n",
       "      <td>82.47%</td>\n",
       "    </tr>\n",
       "    <tr>\n",
       "      <th>10</th>\n",
       "      <td>Winter</td>\n",
       "      <td>2019</td>\n",
       "      <td>18643</td>\n",
       "      <td>2769</td>\n",
       "      <td>15874</td>\n",
       "      <td>85.00%</td>\n",
       "    </tr>\n",
       "    <tr>\n",
       "      <th>11</th>\n",
       "      <td>Spring</td>\n",
       "      <td>2019</td>\n",
       "      <td>18660</td>\n",
       "      <td>2936</td>\n",
       "      <td>15724</td>\n",
       "      <td>84.27%</td>\n",
       "    </tr>\n",
       "    <tr>\n",
       "      <th>12</th>\n",
       "      <td>Summer</td>\n",
       "      <td>2019</td>\n",
       "      <td>18400</td>\n",
       "      <td>4024</td>\n",
       "      <td>14376</td>\n",
       "      <td>78.00%</td>\n",
       "    </tr>\n",
       "    <tr>\n",
       "      <th>13</th>\n",
       "      <td>Fall</td>\n",
       "      <td>2019</td>\n",
       "      <td>19381</td>\n",
       "      <td>3749</td>\n",
       "      <td>15632</td>\n",
       "      <td>80.66%</td>\n",
       "    </tr>\n",
       "    <tr>\n",
       "      <th>14</th>\n",
       "      <td>Winter</td>\n",
       "      <td>2020</td>\n",
       "      <td>18324</td>\n",
       "      <td>1721</td>\n",
       "      <td>16603</td>\n",
       "      <td>90.61%</td>\n",
       "    </tr>\n",
       "    <tr>\n",
       "      <th>15</th>\n",
       "      <td>Spring</td>\n",
       "      <td>2020</td>\n",
       "      <td>18608</td>\n",
       "      <td>11275</td>\n",
       "      <td>7333</td>\n",
       "      <td>39.41%</td>\n",
       "    </tr>\n",
       "    <tr>\n",
       "      <th>16</th>\n",
       "      <td>Summer</td>\n",
       "      <td>2020</td>\n",
       "      <td>18495</td>\n",
       "      <td>10274</td>\n",
       "      <td>8221</td>\n",
       "      <td>44.45%</td>\n",
       "    </tr>\n",
       "    <tr>\n",
       "      <th>17</th>\n",
       "      <td>Fall</td>\n",
       "      <td>2020</td>\n",
       "      <td>18066</td>\n",
       "      <td>9149</td>\n",
       "      <td>8917</td>\n",
       "      <td>49.36%</td>\n",
       "    </tr>\n",
       "    <tr>\n",
       "      <th>18</th>\n",
       "      <td>Winter</td>\n",
       "      <td>2021</td>\n",
       "      <td>18132</td>\n",
       "      <td>7418</td>\n",
       "      <td>10714</td>\n",
       "      <td>59.09%</td>\n",
       "    </tr>\n",
       "    <tr>\n",
       "      <th>19</th>\n",
       "      <td>Spring</td>\n",
       "      <td>2021</td>\n",
       "      <td>18157</td>\n",
       "      <td>6775</td>\n",
       "      <td>11382</td>\n",
       "      <td>62.69%</td>\n",
       "    </tr>\n",
       "    <tr>\n",
       "      <th>20</th>\n",
       "      <td>Summer</td>\n",
       "      <td>2021</td>\n",
       "      <td>17933</td>\n",
       "      <td>7553</td>\n",
       "      <td>10380</td>\n",
       "      <td>58.00%</td>\n",
       "    </tr>\n",
       "    <tr>\n",
       "      <th>21</th>\n",
       "      <td>Fall</td>\n",
       "      <td>2021</td>\n",
       "      <td>18248</td>\n",
       "      <td>5784</td>\n",
       "      <td>12464</td>\n",
       "      <td>68.30%</td>\n",
       "    </tr>\n",
       "    <tr>\n",
       "      <th>22</th>\n",
       "      <td>Winter</td>\n",
       "      <td>2022</td>\n",
       "      <td>18351</td>\n",
       "      <td>6200</td>\n",
       "      <td>12151</td>\n",
       "      <td>66.21%</td>\n",
       "    </tr>\n",
       "    <tr>\n",
       "      <th>23</th>\n",
       "      <td>Spring</td>\n",
       "      <td>2022</td>\n",
       "      <td>18478</td>\n",
       "      <td>3700</td>\n",
       "      <td>14778</td>\n",
       "      <td>79.98%</td>\n",
       "    </tr>\n",
       "    <tr>\n",
       "      <th>24</th>\n",
       "      <td>Summer</td>\n",
       "      <td>2022</td>\n",
       "      <td>18726</td>\n",
       "      <td>7558</td>\n",
       "      <td>11168</td>\n",
       "      <td>60.00%</td>\n",
       "    </tr>\n",
       "    <tr>\n",
       "      <th>25</th>\n",
       "      <td>Fall</td>\n",
       "      <td>2022</td>\n",
       "      <td>18652</td>\n",
       "      <td>3870</td>\n",
       "      <td>14782</td>\n",
       "      <td>79.25%</td>\n",
       "    </tr>\n",
       "    <tr>\n",
       "      <th>26</th>\n",
       "      <td>Winter</td>\n",
       "      <td>2023</td>\n",
       "      <td>18926</td>\n",
       "      <td>3903</td>\n",
       "      <td>15023</td>\n",
       "      <td>79.00%</td>\n",
       "    </tr>\n",
       "    <tr>\n",
       "      <th>27</th>\n",
       "      <td>Spring</td>\n",
       "      <td>2023</td>\n",
       "      <td>18739</td>\n",
       "      <td>3462</td>\n",
       "      <td>15277</td>\n",
       "      <td>82.00%</td>\n",
       "    </tr>\n",
       "    <tr>\n",
       "      <th>28</th>\n",
       "      <td>Summer</td>\n",
       "      <td>2023</td>\n",
       "      <td>18352</td>\n",
       "      <td>5685</td>\n",
       "      <td>12667</td>\n",
       "      <td>69.02%</td>\n",
       "    </tr>\n",
       "  </tbody>\n",
       "</table>\n",
       "</div>"
      ],
      "text/plain": [
       "   quarter  year parking_spaces empty_spaces occupied_spaces percent_occupied\n",
       "0   Summer  2016          19297         6567           12730           65.97%\n",
       "1     Fall  2016          19245         3578           15667           81.41%\n",
       "2   Winter  2017          18316         2691           15625           85.31%\n",
       "3   Spring  2017          18334         3096           15238           83.11%\n",
       "4   Summer  2017          18082         5050           13032           72.07%\n",
       "5     Fall  2017          18011         2313           15698           87.16%\n",
       "6   Winter  2018          18105         2385           15720           86.83%\n",
       "7   Spring  2018          18092         2504           15588           86.16%\n",
       "8   Summer  2018          17107         4466           12641           74.00%\n",
       "9     Fall  2018          17408         3052           14356           82.47%\n",
       "10  Winter  2019          18643         2769           15874           85.00%\n",
       "11  Spring  2019          18660         2936           15724           84.27%\n",
       "12  Summer  2019          18400         4024           14376           78.00%\n",
       "13    Fall  2019          19381         3749           15632           80.66%\n",
       "14  Winter  2020          18324         1721           16603           90.61%\n",
       "15  Spring  2020          18608        11275            7333           39.41%\n",
       "16  Summer  2020          18495        10274            8221           44.45%\n",
       "17    Fall  2020          18066         9149            8917           49.36%\n",
       "18  Winter  2021          18132         7418           10714           59.09%\n",
       "19  Spring  2021          18157         6775           11382           62.69%\n",
       "20  Summer  2021         17933         7553           10380            58.00%\n",
       "21    Fall  2021          18248         5784           12464           68.30%\n",
       "22  Winter  2022          18351         6200           12151           66.21%\n",
       "23  Spring  2022          18478         3700           14778           79.98%\n",
       "24  Summer  2022          18726         7558           11168           60.00%\n",
       "25    Fall  2022          18652         3870           14782           79.25%\n",
       "26  Winter  2023          18926         3903           15023           79.00%\n",
       "27  Spring  2023          18739         3462           15277           82.00%\n",
       "28  Summer  2023          18352         5685           12667           69.02%"
      ]
     },
     "execution_count": 2,
     "metadata": {},
     "output_type": "execute_result"
    }
   ],
   "source": [
    "## Import csv file with parking data\n",
    "parking_data = pd.read_csv('QbyQ UCSD Parking Occupancy.csv', \n",
    "                            usecols = ['Quarter', 'Year', 'Parking Spaces', \n",
    "                                    'Empty Spaces', 'Occupied Spaces', '% Occupied'])\n",
    "\n",
    "## Rename the column names\n",
    "parking_data = parking_data.rename(columns={'Quarter':'quarter', 'Year':'year', \n",
    "                     'Parking Spaces':'parking_spaces', 'Empty Spaces':'empty_spaces', \n",
    "                     'Occupied Spaces':'occupied_spaces', '% Occupied':'percent_occupied'})\n",
    "parking_data"
   ]
  },
  {
   "cell_type": "markdown",
   "metadata": {},
   "source": [
    "## Dataset #2: San Diego PD Traffic Collision Details Dataset"
   ]
  },
  {
   "cell_type": "code",
   "execution_count": 3,
   "metadata": {},
   "outputs": [
    {
     "data": {
      "text/html": [
       "<div>\n",
       "<style scoped>\n",
       "    .dataframe tbody tr th:only-of-type {\n",
       "        vertical-align: middle;\n",
       "    }\n",
       "\n",
       "    .dataframe tbody tr th {\n",
       "        vertical-align: top;\n",
       "    }\n",
       "\n",
       "    .dataframe thead th {\n",
       "        text-align: right;\n",
       "    }\n",
       "</style>\n",
       "<table border=\"1\" class=\"dataframe\">\n",
       "  <thead>\n",
       "    <tr style=\"text-align: right;\">\n",
       "      <th></th>\n",
       "      <th>date_time</th>\n",
       "      <th>address_road_primary</th>\n",
       "      <th>injured</th>\n",
       "      <th>killed</th>\n",
       "    </tr>\n",
       "  </thead>\n",
       "  <tbody>\n",
       "    <tr>\n",
       "      <th>0</th>\n",
       "      <td>2015-01-14 20:00:00</td>\n",
       "      <td>JUNIPER</td>\n",
       "      <td>0</td>\n",
       "      <td>0</td>\n",
       "    </tr>\n",
       "    <tr>\n",
       "      <th>1</th>\n",
       "      <td>2015-03-19 12:00:00</td>\n",
       "      <td>LINDA VISTA</td>\n",
       "      <td>0</td>\n",
       "      <td>0</td>\n",
       "    </tr>\n",
       "    <tr>\n",
       "      <th>2</th>\n",
       "      <td>2015-03-24 03:05:00</td>\n",
       "      <td>WASHINGTON</td>\n",
       "      <td>2</td>\n",
       "      <td>0</td>\n",
       "    </tr>\n",
       "    <tr>\n",
       "      <th>3</th>\n",
       "      <td>2015-03-27 23:56:00</td>\n",
       "      <td>WORDEN</td>\n",
       "      <td>1</td>\n",
       "      <td>0</td>\n",
       "    </tr>\n",
       "    <tr>\n",
       "      <th>4</th>\n",
       "      <td>2015-07-06 11:45:00</td>\n",
       "      <td>EL CAJON</td>\n",
       "      <td>0</td>\n",
       "      <td>0</td>\n",
       "    </tr>\n",
       "  </tbody>\n",
       "</table>\n",
       "</div>"
      ],
      "text/plain": [
       "            date_time address_road_primary  injured  killed\n",
       "0 2015-01-14 20:00:00              JUNIPER        0       0\n",
       "1 2015-03-19 12:00:00          LINDA VISTA        0       0\n",
       "2 2015-03-24 03:05:00           WASHINGTON        2       0\n",
       "3 2015-03-27 23:56:00               WORDEN        1       0\n",
       "4 2015-07-06 11:45:00             EL CAJON        0       0"
      ]
     },
     "execution_count": 3,
     "metadata": {},
     "output_type": "execute_result"
    }
   ],
   "source": [
    "## Import csv file with collision data\n",
    "collision_data = pd.read_csv('https://seshat.datasd.org/traffic_collision_details/pd_collisions_details_datasd.csv', usecols = ['date_time', 'address_road_primary', 'injured', 'killed'], parse_dates = ['date_time'])\n",
    "collision_data.head()"
   ]
  },
  {
   "cell_type": "code",
   "execution_count": 4,
   "metadata": {},
   "outputs": [
    {
     "data": {
      "text/html": [
       "<div>\n",
       "<style scoped>\n",
       "    .dataframe tbody tr th:only-of-type {\n",
       "        vertical-align: middle;\n",
       "    }\n",
       "\n",
       "    .dataframe tbody tr th {\n",
       "        vertical-align: top;\n",
       "    }\n",
       "\n",
       "    .dataframe thead th {\n",
       "        text-align: right;\n",
       "    }\n",
       "</style>\n",
       "<table border=\"1\" class=\"dataframe\">\n",
       "  <thead>\n",
       "    <tr style=\"text-align: right;\">\n",
       "      <th></th>\n",
       "      <th>date_time</th>\n",
       "      <th>address_road_primary</th>\n",
       "      <th>injured</th>\n",
       "      <th>killed</th>\n",
       "    </tr>\n",
       "  </thead>\n",
       "  <tbody>\n",
       "    <tr>\n",
       "      <th>50</th>\n",
       "      <td>2016-07-06 00:01:00</td>\n",
       "      <td>la jolla village</td>\n",
       "      <td>0</td>\n",
       "      <td>0</td>\n",
       "    </tr>\n",
       "    <tr>\n",
       "      <th>87</th>\n",
       "      <td>2016-07-29 15:27:00</td>\n",
       "      <td>genesee</td>\n",
       "      <td>0</td>\n",
       "      <td>0</td>\n",
       "    </tr>\n",
       "    <tr>\n",
       "      <th>88</th>\n",
       "      <td>2016-07-29 15:27:00</td>\n",
       "      <td>genesee</td>\n",
       "      <td>0</td>\n",
       "      <td>0</td>\n",
       "    </tr>\n",
       "    <tr>\n",
       "      <th>134</th>\n",
       "      <td>2016-08-05 07:30:00</td>\n",
       "      <td>nobel</td>\n",
       "      <td>1</td>\n",
       "      <td>0</td>\n",
       "    </tr>\n",
       "    <tr>\n",
       "      <th>149</th>\n",
       "      <td>2016-08-06 20:39:00</td>\n",
       "      <td>nobel</td>\n",
       "      <td>1</td>\n",
       "      <td>0</td>\n",
       "    </tr>\n",
       "    <tr>\n",
       "      <th>...</th>\n",
       "      <td>...</td>\n",
       "      <td>...</td>\n",
       "      <td>...</td>\n",
       "      <td>...</td>\n",
       "    </tr>\n",
       "    <tr>\n",
       "      <th>125260</th>\n",
       "      <td>2022-08-06 18:47:00</td>\n",
       "      <td>genesee</td>\n",
       "      <td>1</td>\n",
       "      <td>0</td>\n",
       "    </tr>\n",
       "    <tr>\n",
       "      <th>125305</th>\n",
       "      <td>2023-01-13 20:56:00</td>\n",
       "      <td>regents</td>\n",
       "      <td>0</td>\n",
       "      <td>0</td>\n",
       "    </tr>\n",
       "    <tr>\n",
       "      <th>125308</th>\n",
       "      <td>2023-01-22 12:19:00</td>\n",
       "      <td>genesee</td>\n",
       "      <td>1</td>\n",
       "      <td>0</td>\n",
       "    </tr>\n",
       "    <tr>\n",
       "      <th>125392</th>\n",
       "      <td>2023-10-28 23:18:00</td>\n",
       "      <td>genesee</td>\n",
       "      <td>0</td>\n",
       "      <td>0</td>\n",
       "    </tr>\n",
       "    <tr>\n",
       "      <th>125393</th>\n",
       "      <td>2023-11-05 14:50:46</td>\n",
       "      <td>north torrey pines</td>\n",
       "      <td>0</td>\n",
       "      <td>0</td>\n",
       "    </tr>\n",
       "  </tbody>\n",
       "</table>\n",
       "<p>3190 rows × 4 columns</p>\n",
       "</div>"
      ],
      "text/plain": [
       "                 date_time address_road_primary  injured  killed\n",
       "50     2016-07-06 00:01:00     la jolla village        0       0\n",
       "87     2016-07-29 15:27:00              genesee        0       0\n",
       "88     2016-07-29 15:27:00              genesee        0       0\n",
       "134    2016-08-05 07:30:00                nobel        1       0\n",
       "149    2016-08-06 20:39:00                nobel        1       0\n",
       "...                    ...                  ...      ...     ...\n",
       "125260 2022-08-06 18:47:00              genesee        1       0\n",
       "125305 2023-01-13 20:56:00              regents        0       0\n",
       "125308 2023-01-22 12:19:00              genesee        1       0\n",
       "125392 2023-10-28 23:18:00              genesee        0       0\n",
       "125393 2023-11-05 14:50:46   north torrey pines        0       0\n",
       "\n",
       "[3190 rows x 4 columns]"
      ]
     },
     "execution_count": 4,
     "metadata": {},
     "output_type": "execute_result"
    }
   ],
   "source": [
    "## Filter datasset to include only relevant street names for analysis\n",
    "collision_data['address_road_primary'] = collision_data['address_road_primary'].apply(lambda x: str.lower(str(x)))\n",
    "street_names = ['genesee', 'gilman', 'hopkins', 'la jolla farms', \n",
    "                'la jolla scenic', 'la jolla scenic dr north', \n",
    "                'la jolla scenic n', 'la jolla village', 'lebon', \n",
    "                'nobel', 'north torrey pines', 'regents', \n",
    "                'villa la jolla', 'voigt']\n",
    "collision_data = collision_data[collision_data['address_road_primary'].isin(street_names)]\n",
    "collision_data"
   ]
  },
  {
   "cell_type": "code",
   "execution_count": 5,
   "metadata": {},
   "outputs": [
    {
     "data": {
      "text/html": [
       "<div>\n",
       "<style scoped>\n",
       "    .dataframe tbody tr th:only-of-type {\n",
       "        vertical-align: middle;\n",
       "    }\n",
       "\n",
       "    .dataframe tbody tr th {\n",
       "        vertical-align: top;\n",
       "    }\n",
       "\n",
       "    .dataframe thead th {\n",
       "        text-align: right;\n",
       "    }\n",
       "</style>\n",
       "<table border=\"1\" class=\"dataframe\">\n",
       "  <thead>\n",
       "    <tr style=\"text-align: right;\">\n",
       "      <th></th>\n",
       "      <th>year</th>\n",
       "      <th>quarter</th>\n",
       "      <th>address_road_primary</th>\n",
       "      <th>injured</th>\n",
       "      <th>killed</th>\n",
       "    </tr>\n",
       "  </thead>\n",
       "  <tbody>\n",
       "    <tr>\n",
       "      <th>50</th>\n",
       "      <td>2016</td>\n",
       "      <td>Summer</td>\n",
       "      <td>la jolla village</td>\n",
       "      <td>0</td>\n",
       "      <td>0</td>\n",
       "    </tr>\n",
       "    <tr>\n",
       "      <th>87</th>\n",
       "      <td>2016</td>\n",
       "      <td>Summer</td>\n",
       "      <td>genesee</td>\n",
       "      <td>0</td>\n",
       "      <td>0</td>\n",
       "    </tr>\n",
       "    <tr>\n",
       "      <th>88</th>\n",
       "      <td>2016</td>\n",
       "      <td>Summer</td>\n",
       "      <td>genesee</td>\n",
       "      <td>0</td>\n",
       "      <td>0</td>\n",
       "    </tr>\n",
       "    <tr>\n",
       "      <th>134</th>\n",
       "      <td>2016</td>\n",
       "      <td>Summer</td>\n",
       "      <td>nobel</td>\n",
       "      <td>1</td>\n",
       "      <td>0</td>\n",
       "    </tr>\n",
       "    <tr>\n",
       "      <th>149</th>\n",
       "      <td>2016</td>\n",
       "      <td>Summer</td>\n",
       "      <td>nobel</td>\n",
       "      <td>1</td>\n",
       "      <td>0</td>\n",
       "    </tr>\n",
       "    <tr>\n",
       "      <th>...</th>\n",
       "      <td>...</td>\n",
       "      <td>...</td>\n",
       "      <td>...</td>\n",
       "      <td>...</td>\n",
       "      <td>...</td>\n",
       "    </tr>\n",
       "    <tr>\n",
       "      <th>125143</th>\n",
       "      <td>2021</td>\n",
       "      <td>Fall</td>\n",
       "      <td>nobel</td>\n",
       "      <td>1</td>\n",
       "      <td>0</td>\n",
       "    </tr>\n",
       "    <tr>\n",
       "      <th>125157</th>\n",
       "      <td>2021</td>\n",
       "      <td>Fall</td>\n",
       "      <td>regents</td>\n",
       "      <td>1</td>\n",
       "      <td>0</td>\n",
       "    </tr>\n",
       "    <tr>\n",
       "      <th>125260</th>\n",
       "      <td>2022</td>\n",
       "      <td>Summer</td>\n",
       "      <td>genesee</td>\n",
       "      <td>1</td>\n",
       "      <td>0</td>\n",
       "    </tr>\n",
       "    <tr>\n",
       "      <th>125305</th>\n",
       "      <td>2023</td>\n",
       "      <td>Winter</td>\n",
       "      <td>regents</td>\n",
       "      <td>0</td>\n",
       "      <td>0</td>\n",
       "    </tr>\n",
       "    <tr>\n",
       "      <th>125308</th>\n",
       "      <td>2023</td>\n",
       "      <td>Winter</td>\n",
       "      <td>genesee</td>\n",
       "      <td>1</td>\n",
       "      <td>0</td>\n",
       "    </tr>\n",
       "  </tbody>\n",
       "</table>\n",
       "<p>3114 rows × 5 columns</p>\n",
       "</div>"
      ],
      "text/plain": [
       "        year quarter address_road_primary  injured  killed\n",
       "50      2016  Summer     la jolla village        0       0\n",
       "87      2016  Summer              genesee        0       0\n",
       "88      2016  Summer              genesee        0       0\n",
       "134     2016  Summer                nobel        1       0\n",
       "149     2016  Summer                nobel        1       0\n",
       "...      ...     ...                  ...      ...     ...\n",
       "125143  2021    Fall                nobel        1       0\n",
       "125157  2021    Fall              regents        1       0\n",
       "125260  2022  Summer              genesee        1       0\n",
       "125305  2023  Winter              regents        0       0\n",
       "125308  2023  Winter              genesee        1       0\n",
       "\n",
       "[3114 rows x 5 columns]"
      ]
     },
     "execution_count": 5,
     "metadata": {},
     "output_type": "execute_result"
    }
   ],
   "source": [
    "# Extract the year for collision_data\n",
    "collision_data['date_time'] = pd.to_datetime(collision_data['date_time'])\n",
    "collision_data[\"year\"] = collision_data['date_time'].dt.year\n",
    "collision_data.dtypes\n",
    "\n",
    "# Extract the quarter time from UCSD_Quarter_Dates\n",
    "quarter_dates = pd.read_csv(\"UCSD_Quarter_Dates.csv\")\n",
    "quarter_dates[\"Start_date\"] = pd.to_datetime(quarter_dates['Start'])\n",
    "quarter_dates[\"End_date\"] = pd.to_datetime(quarter_dates['End'])\n",
    "\n",
    "def quarter_check(date):\n",
    "    for row in quarter_dates.values:\n",
    "        if date >= row[3] and date <= row[4] + pd.Timedelta(days=1):\n",
    "            return row[0]\n",
    "    return None\n",
    "\n",
    "# Extract the quarter for collision_data\n",
    "collision_data[\"quarter\"] = collision_data[\"date_time\"].apply(quarter_check)\n",
    "collision_data = collision_data.dropna(subset=[\"quarter\"])\n",
    "collision_data = collision_data[[\"year\", \"quarter\", \"address_road_primary\", \"injured\", \"killed\"]]\n",
    "collision_data = collision_data.drop(collision_data[(collision_data['quarter'] == 'Fall') & (collision_data['year'] == 2023)].index)\n",
    "\n",
    "collision_data"
   ]
  },
  {
   "cell_type": "markdown",
   "metadata": {},
   "source": [
    "# Results\n",
    "\n",
    "## Exploratory Data Analysis"
   ]
  },
  {
   "cell_type": "markdown",
   "metadata": {},
   "source": [
    "### Dataset 1: Occupied parking spaces per quarter\n",
    "\n",
    "First, we will generate summary statistics regarding percentage of occupied spots by quarter and year on the UCSD campus. This will help us to first understand the basics of our data."
   ]
  },
  {
   "cell_type": "code",
   "execution_count": 6,
   "metadata": {},
   "outputs": [
    {
     "data": {
      "text/plain": [
       "count         29\n",
       "unique        29\n",
       "top       65.97%\n",
       "freq           1\n",
       "Name: percent_occupied, dtype: object"
      ]
     },
     "execution_count": 6,
     "metadata": {},
     "output_type": "execute_result"
    }
   ],
   "source": [
    "parking_data['percent_occupied'].describe()"
   ]
  },
  {
   "cell_type": "markdown",
   "metadata": {},
   "source": [
    "Based upon these statistics, we can see that we have data for 29 quarters, wherein the average parking occupancy falls at 73%. The minimum value for parking occupancy is 39% occupied, and the maximum is 90%. Next, we will generate a barplot that will allow us to visualize any outliers in the data, or any trends within the data that we may not see within the summary statistics. "
   ]
  },
  {
   "cell_type": "code",
   "execution_count": 7,
   "metadata": {},
   "outputs": [],
   "source": [
    "# remove percentage signs from column \n",
    "parking_data['percent_occupied'] = parking_data['percent_occupied'].str.replace('%', '')\n",
    "\n",
    "# convert to float values\n",
    "parking_data['percent_occupied'] = pd.to_numeric(parking_data['percent_occupied'])"
   ]
  },
  {
   "cell_type": "code",
   "execution_count": 8,
   "metadata": {},
   "outputs": [
    {
     "data": {
      "image/png": "[encoded data removed]",
      "text/plain": [
       "<Figure size 432x288 with 1 Axes>"
      ]
     },
     "metadata": {
      "needs_background": "light"
     },
     "output_type": "display_data"
    }
   ],
   "source": [
    "# make copy of DF\n",
    "occupied = parking_data.copy()\n",
    "\n",
    "# concat quarter and year columns \n",
    "occupied['quarter_year'] = occupied['quarter'].str.cat(occupied['year'].astype(str), sep = ' ')\n",
    "\n",
    "# create plot w labels using dodge to set hue of bars to year without adjusting bar width\n",
    "sns.barplot(data=occupied, x='percent_occupied', y='quarter_year', hue='year', dodge=False, palette='pastel')\n",
    "plt.title('Percentage of Occupied Parking Spots by Quarter and Year')\n",
    "plt.xlabel('Percent Occupied')\n",
    "plt.ylabel('Quarter and Year')\n",
    "plt.show()"
   ]
  },
  {
   "cell_type": "markdown",
   "metadata": {},
   "source": [
    "We can see based upon this figure that while parking occupancy remains relatively stable between 60%-80% occupied in accordance with the mean value of 73% occupied, in the spring 2020 quarter, there begins a significant dip in occupancy, where our minimum value (39% occupancy) occurs. This is likely due to the switch to online learning that occured during this time. As on campus activities resume, parking occupancy slowly returns to values between 60%-80% again. "
   ]
  },
  {
   "cell_type": "markdown",
   "metadata": {},
   "source": [
    "### Dataset 1: Proportion of occupied parking spaces per quarter (grouped)\n",
    "\n",
    "We create the occupied proportional boxplot first, then generate the total number ocupied boxplot. "
   ]
  },
  {
   "cell_type": "code",
   "execution_count": 9,
   "metadata": {},
   "outputs": [
    {
     "data": {
      "text/plain": [
       "<AxesSubplot:xlabel='quarter', ylabel='parking_spaces'>"
      ]
     },
     "execution_count": 9,
     "metadata": {},
     "output_type": "execute_result"
    },
    {
     "data": {
      "image/png": "[encoded data removed]",
      "text/plain": [
       "<Figure size 432x288 with 2 Axes>"
      ]
     },
     "metadata": {},
     "output_type": "display_data"
    }
   ],
   "source": [
    "parking_data['parking_spaces'] = parking_data['parking_spaces'].astype('int')\n",
    "sns.set(font_scale=1, style=\"white\")\n",
    "fig, ax = plt.subplots(1, 2, sharex=False, sharey=False)\n",
    "plt.subplots_adjust(wspace=0.5)\n",
    "sns.boxplot(ax=ax[0], data=parking_data, x='quarter', y='percent_occupied')\n",
    "sns.boxplot(ax=ax[1], data=parking_data, x='quarter', y='parking_spaces')"
   ]
  },
  {
   "cell_type": "markdown",
   "metadata": {},
   "source": [
    "We notice that summer quarter has the lowest percentage occupied for parking. It appears highest in the Winter and lowest in the Summer, suggesting a seasonal effect on parking space occupancy. \n",
    "There are two outliers, one in Fall and the other in Spring quarter due to campus close.  "
   ]
  },
  {
   "cell_type": "markdown",
   "metadata": {},
   "source": [
    "### Dataset 2: Number of accidents per quarter\n",
    "\n",
    "First, we check how many accidents occurred each quarter using ```groupby```."
   ]
  },
  {
   "cell_type": "code",
   "execution_count": 10,
   "metadata": {},
   "outputs": [
    {
     "data": {
      "text/html": [
       "<div>\n",
       "<style scoped>\n",
       "    .dataframe tbody tr th:only-of-type {\n",
       "        vertical-align: middle;\n",
       "    }\n",
       "\n",
       "    .dataframe tbody tr th {\n",
       "        vertical-align: top;\n",
       "    }\n",
       "\n",
       "    .dataframe thead th {\n",
       "        text-align: right;\n",
       "    }\n",
       "</style>\n",
       "<table border=\"1\" class=\"dataframe\">\n",
       "  <thead>\n",
       "    <tr style=\"text-align: right;\">\n",
       "      <th></th>\n",
       "      <th>quarter</th>\n",
       "      <th>year</th>\n",
       "      <th>Count</th>\n",
       "    </tr>\n",
       "  </thead>\n",
       "  <tbody>\n",
       "    <tr>\n",
       "      <th>0</th>\n",
       "      <td>Fall</td>\n",
       "      <td>2016</td>\n",
       "      <td>126</td>\n",
       "    </tr>\n",
       "    <tr>\n",
       "      <th>1</th>\n",
       "      <td>Fall</td>\n",
       "      <td>2017</td>\n",
       "      <td>134</td>\n",
       "    </tr>\n",
       "    <tr>\n",
       "      <th>2</th>\n",
       "      <td>Fall</td>\n",
       "      <td>2018</td>\n",
       "      <td>159</td>\n",
       "    </tr>\n",
       "    <tr>\n",
       "      <th>3</th>\n",
       "      <td>Fall</td>\n",
       "      <td>2019</td>\n",
       "      <td>170</td>\n",
       "    </tr>\n",
       "    <tr>\n",
       "      <th>4</th>\n",
       "      <td>Fall</td>\n",
       "      <td>2020</td>\n",
       "      <td>87</td>\n",
       "    </tr>\n",
       "    <tr>\n",
       "      <th>5</th>\n",
       "      <td>Fall</td>\n",
       "      <td>2021</td>\n",
       "      <td>175</td>\n",
       "    </tr>\n",
       "    <tr>\n",
       "      <th>6</th>\n",
       "      <td>Fall</td>\n",
       "      <td>2022</td>\n",
       "      <td>93</td>\n",
       "    </tr>\n",
       "    <tr>\n",
       "      <th>7</th>\n",
       "      <td>Spring</td>\n",
       "      <td>2017</td>\n",
       "      <td>95</td>\n",
       "    </tr>\n",
       "    <tr>\n",
       "      <th>8</th>\n",
       "      <td>Spring</td>\n",
       "      <td>2018</td>\n",
       "      <td>101</td>\n",
       "    </tr>\n",
       "    <tr>\n",
       "      <th>9</th>\n",
       "      <td>Spring</td>\n",
       "      <td>2019</td>\n",
       "      <td>107</td>\n",
       "    </tr>\n",
       "    <tr>\n",
       "      <th>10</th>\n",
       "      <td>Spring</td>\n",
       "      <td>2020</td>\n",
       "      <td>54</td>\n",
       "    </tr>\n",
       "    <tr>\n",
       "      <th>11</th>\n",
       "      <td>Spring</td>\n",
       "      <td>2021</td>\n",
       "      <td>95</td>\n",
       "    </tr>\n",
       "    <tr>\n",
       "      <th>12</th>\n",
       "      <td>Spring</td>\n",
       "      <td>2022</td>\n",
       "      <td>100</td>\n",
       "    </tr>\n",
       "    <tr>\n",
       "      <th>13</th>\n",
       "      <td>Spring</td>\n",
       "      <td>2023</td>\n",
       "      <td>103</td>\n",
       "    </tr>\n",
       "    <tr>\n",
       "      <th>14</th>\n",
       "      <td>Summer</td>\n",
       "      <td>2016</td>\n",
       "      <td>56</td>\n",
       "    </tr>\n",
       "    <tr>\n",
       "      <th>15</th>\n",
       "      <td>Summer</td>\n",
       "      <td>2017</td>\n",
       "      <td>88</td>\n",
       "    </tr>\n",
       "    <tr>\n",
       "      <th>16</th>\n",
       "      <td>Summer</td>\n",
       "      <td>2018</td>\n",
       "      <td>95</td>\n",
       "    </tr>\n",
       "    <tr>\n",
       "      <th>17</th>\n",
       "      <td>Summer</td>\n",
       "      <td>2019</td>\n",
       "      <td>118</td>\n",
       "    </tr>\n",
       "    <tr>\n",
       "      <th>18</th>\n",
       "      <td>Summer</td>\n",
       "      <td>2020</td>\n",
       "      <td>76</td>\n",
       "    </tr>\n",
       "    <tr>\n",
       "      <th>19</th>\n",
       "      <td>Summer</td>\n",
       "      <td>2021</td>\n",
       "      <td>136</td>\n",
       "    </tr>\n",
       "    <tr>\n",
       "      <th>20</th>\n",
       "      <td>Summer</td>\n",
       "      <td>2022</td>\n",
       "      <td>113</td>\n",
       "    </tr>\n",
       "    <tr>\n",
       "      <th>21</th>\n",
       "      <td>Summer</td>\n",
       "      <td>2023</td>\n",
       "      <td>99</td>\n",
       "    </tr>\n",
       "    <tr>\n",
       "      <th>22</th>\n",
       "      <td>Winter</td>\n",
       "      <td>2017</td>\n",
       "      <td>108</td>\n",
       "    </tr>\n",
       "    <tr>\n",
       "      <th>23</th>\n",
       "      <td>Winter</td>\n",
       "      <td>2018</td>\n",
       "      <td>99</td>\n",
       "    </tr>\n",
       "    <tr>\n",
       "      <th>24</th>\n",
       "      <td>Winter</td>\n",
       "      <td>2019</td>\n",
       "      <td>102</td>\n",
       "    </tr>\n",
       "    <tr>\n",
       "      <th>25</th>\n",
       "      <td>Winter</td>\n",
       "      <td>2020</td>\n",
       "      <td>142</td>\n",
       "    </tr>\n",
       "    <tr>\n",
       "      <th>26</th>\n",
       "      <td>Winter</td>\n",
       "      <td>2021</td>\n",
       "      <td>92</td>\n",
       "    </tr>\n",
       "    <tr>\n",
       "      <th>27</th>\n",
       "      <td>Winter</td>\n",
       "      <td>2022</td>\n",
       "      <td>116</td>\n",
       "    </tr>\n",
       "    <tr>\n",
       "      <th>28</th>\n",
       "      <td>Winter</td>\n",
       "      <td>2023</td>\n",
       "      <td>75</td>\n",
       "    </tr>\n",
       "  </tbody>\n",
       "</table>\n",
       "</div>"
      ],
      "text/plain": [
       "   quarter  year  Count\n",
       "0     Fall  2016    126\n",
       "1     Fall  2017    134\n",
       "2     Fall  2018    159\n",
       "3     Fall  2019    170\n",
       "4     Fall  2020     87\n",
       "5     Fall  2021    175\n",
       "6     Fall  2022     93\n",
       "7   Spring  2017     95\n",
       "8   Spring  2018    101\n",
       "9   Spring  2019    107\n",
       "10  Spring  2020     54\n",
       "11  Spring  2021     95\n",
       "12  Spring  2022    100\n",
       "13  Spring  2023    103\n",
       "14  Summer  2016     56\n",
       "15  Summer  2017     88\n",
       "16  Summer  2018     95\n",
       "17  Summer  2019    118\n",
       "18  Summer  2020     76\n",
       "19  Summer  2021    136\n",
       "20  Summer  2022    113\n",
       "21  Summer  2023     99\n",
       "22  Winter  2017    108\n",
       "23  Winter  2018     99\n",
       "24  Winter  2019    102\n",
       "25  Winter  2020    142\n",
       "26  Winter  2021     92\n",
       "27  Winter  2022    116\n",
       "28  Winter  2023     75"
      ]
     },
     "execution_count": 10,
     "metadata": {},
     "output_type": "execute_result"
    }
   ],
   "source": [
    "collision_data.groupby(['quarter', 'year']).size().reset_index(name='Count')"
   ]
  },
  {
   "cell_type": "code",
   "execution_count": 11,
   "metadata": {},
   "outputs": [
    {
     "data": {
      "text/plain": [
       "(54, 101.0, 175)"
      ]
     },
     "execution_count": 11,
     "metadata": {},
     "output_type": "execute_result"
    }
   ],
   "source": [
    "min = collision_data.groupby(['quarter', 'year']).size().min()\n",
    "median = collision_data.groupby(['quarter', 'year']).size().median()\n",
    "max = collision_data.groupby(['quarter', 'year']).size().max()\n",
    "min, median, max"
   ]
  },
  {
   "cell_type": "markdown",
   "metadata": {},
   "source": [
    "We can find that the minimum number of accidents is 54, the median number of accidents is 101, and the maximum number of accidents is 175 (all per quarter)."
   ]
  },
  {
   "cell_type": "code",
   "execution_count": 12,
   "metadata": {},
   "outputs": [
    {
     "data": {
      "image/png": "[encoded data removed]",
      "text/plain": [
       "<Figure size 576x288 with 1 Axes>"
      ]
     },
     "metadata": {},
     "output_type": "display_data"
    }
   ],
   "source": [
    "sns.set(font_scale=2, style=\"white\")\n",
    "\n",
    "plt.figure(figsize=(8, 4))\n",
    "sns.histplot(data = collision_data, x = collision_data.groupby(['quarter', 'year']).size(), bins = 35)\n",
    "plt.ylabel('Number of quarters')  \n",
    "plt.xlabel('Number of accidents')\n",
    "plt.show()"
   ]
  },
  {
   "cell_type": "markdown",
   "metadata": {},
   "source": [
    "The collision data that we grouped can be plotted in a histogram to see a general range of the total number of accidents that occur in a quarter. This helps us visualize that the minimum number of accidents is roughly 50, and the maximum number of accidents is roughly 175. There aren't any extreme outliers in the data, as the data is relatively normally distributed with a slight left skew."
   ]
  },
  {
   "cell_type": "markdown",
   "metadata": {},
   "source": [
    "### Dataset 2: Number of accidents per street\n"
   ]
  },
  {
   "cell_type": "code",
   "execution_count": 13,
   "metadata": {},
   "outputs": [
    {
     "data": {
      "text/html": [
       "<div>\n",
       "<style scoped>\n",
       "    .dataframe tbody tr th:only-of-type {\n",
       "        vertical-align: middle;\n",
       "    }\n",
       "\n",
       "    .dataframe tbody tr th {\n",
       "        vertical-align: top;\n",
       "    }\n",
       "\n",
       "    .dataframe thead th {\n",
       "        text-align: right;\n",
       "    }\n",
       "</style>\n",
       "<table border=\"1\" class=\"dataframe\">\n",
       "  <thead>\n",
       "    <tr style=\"text-align: right;\">\n",
       "      <th></th>\n",
       "      <th>address_road_primary</th>\n",
       "      <th>Count</th>\n",
       "    </tr>\n",
       "  </thead>\n",
       "  <tbody>\n",
       "    <tr>\n",
       "      <th>0</th>\n",
       "      <td>genesee</td>\n",
       "      <td>1346</td>\n",
       "    </tr>\n",
       "    <tr>\n",
       "      <th>1</th>\n",
       "      <td>gilman</td>\n",
       "      <td>116</td>\n",
       "    </tr>\n",
       "    <tr>\n",
       "      <th>2</th>\n",
       "      <td>hopkins</td>\n",
       "      <td>16</td>\n",
       "    </tr>\n",
       "    <tr>\n",
       "      <th>3</th>\n",
       "      <td>la jolla farms</td>\n",
       "      <td>11</td>\n",
       "    </tr>\n",
       "    <tr>\n",
       "      <th>4</th>\n",
       "      <td>la jolla scenic</td>\n",
       "      <td>34</td>\n",
       "    </tr>\n",
       "    <tr>\n",
       "      <th>5</th>\n",
       "      <td>la jolla scenic dr north</td>\n",
       "      <td>2</td>\n",
       "    </tr>\n",
       "    <tr>\n",
       "      <th>6</th>\n",
       "      <td>la jolla scenic n</td>\n",
       "      <td>7</td>\n",
       "    </tr>\n",
       "    <tr>\n",
       "      <th>7</th>\n",
       "      <td>la jolla village</td>\n",
       "      <td>616</td>\n",
       "    </tr>\n",
       "    <tr>\n",
       "      <th>8</th>\n",
       "      <td>lebon</td>\n",
       "      <td>67</td>\n",
       "    </tr>\n",
       "    <tr>\n",
       "      <th>9</th>\n",
       "      <td>nobel</td>\n",
       "      <td>282</td>\n",
       "    </tr>\n",
       "    <tr>\n",
       "      <th>10</th>\n",
       "      <td>north torrey pines</td>\n",
       "      <td>266</td>\n",
       "    </tr>\n",
       "    <tr>\n",
       "      <th>11</th>\n",
       "      <td>regents</td>\n",
       "      <td>169</td>\n",
       "    </tr>\n",
       "    <tr>\n",
       "      <th>12</th>\n",
       "      <td>villa la jolla</td>\n",
       "      <td>175</td>\n",
       "    </tr>\n",
       "    <tr>\n",
       "      <th>13</th>\n",
       "      <td>voigt</td>\n",
       "      <td>7</td>\n",
       "    </tr>\n",
       "  </tbody>\n",
       "</table>\n",
       "</div>"
      ],
      "text/plain": [
       "        address_road_primary  Count\n",
       "0                    genesee   1346\n",
       "1                     gilman    116\n",
       "2                    hopkins     16\n",
       "3             la jolla farms     11\n",
       "4            la jolla scenic     34\n",
       "5   la jolla scenic dr north      2\n",
       "6          la jolla scenic n      7\n",
       "7           la jolla village    616\n",
       "8                      lebon     67\n",
       "9                      nobel    282\n",
       "10        north torrey pines    266\n",
       "11                   regents    169\n",
       "12            villa la jolla    175\n",
       "13                     voigt      7"
      ]
     },
     "execution_count": 13,
     "metadata": {},
     "output_type": "execute_result"
    }
   ],
   "source": [
    "collision_data.groupby([\"address_road_primary\"]).size().reset_index(name='Count')"
   ]
  },
  {
   "cell_type": "code",
   "execution_count": 14,
   "metadata": {},
   "outputs": [
    {
     "data": {
      "image/png": "[encoded data removed]",
      "text/plain": [
       "<Figure size 720x360 with 1 Axes>"
      ]
     },
     "metadata": {},
     "output_type": "display_data"
    }
   ],
   "source": [
    "plt.figure(figsize=(10, 5))\n",
    "sns.histplot(data= collision_data, y='address_road_primary', bins=30)\n",
    "\n",
    "plt.ylabel('Street')\n",
    "plt.xlabel('Number of Accidents')\n",
    "plt.title('Distribution of Accidents per Street')\n",
    "plt.tick_params(axis='y', labelsize=11)\n",
    "plt.show()"
   ]
  },
  {
   "cell_type": "markdown",
   "metadata": {},
   "source": [
    "The graph displays number of accidents per street. Most of the streets have the number below 400. It is worth to notice that la jolla village and genesee street have the number over 600, which are perceived as outliers. However, this is due to the fact that these two streets are the longer than the other streets, which leads to more observations. Therefore, we do not consider them as outliers."
   ]
  },
  {
   "cell_type": "markdown",
   "metadata": {},
   "source": [
    "### Dataset 2: Analysis of number of injured/killed per quarter\n",
    "\n",
    "First, we use ```groupby``` to find the sum and mean number of injured/killed per quarter:"
   ]
  },
  {
   "cell_type": "code",
   "execution_count": 15,
   "metadata": {},
   "outputs": [
    {
     "data": {
      "text/html": [
       "<div>\n",
       "<style scoped>\n",
       "    .dataframe tbody tr th:only-of-type {\n",
       "        vertical-align: middle;\n",
       "    }\n",
       "\n",
       "    .dataframe tbody tr th {\n",
       "        vertical-align: top;\n",
       "    }\n",
       "\n",
       "    .dataframe thead th {\n",
       "        text-align: right;\n",
       "    }\n",
       "</style>\n",
       "<table border=\"1\" class=\"dataframe\">\n",
       "  <thead>\n",
       "    <tr style=\"text-align: right;\">\n",
       "      <th></th>\n",
       "      <th>quarter_year</th>\n",
       "      <th>injured_sum</th>\n",
       "      <th>injured_mean</th>\n",
       "      <th>killed_sum</th>\n",
       "      <th>killed_mean</th>\n",
       "    </tr>\n",
       "  </thead>\n",
       "  <tbody>\n",
       "    <tr>\n",
       "      <th>0</th>\n",
       "      <td>2016_Fall</td>\n",
       "      <td>128</td>\n",
       "      <td>1.015873</td>\n",
       "      <td>0</td>\n",
       "      <td>0.000000</td>\n",
       "    </tr>\n",
       "    <tr>\n",
       "      <th>1</th>\n",
       "      <td>2016_Summer</td>\n",
       "      <td>48</td>\n",
       "      <td>0.857143</td>\n",
       "      <td>2</td>\n",
       "      <td>0.035714</td>\n",
       "    </tr>\n",
       "    <tr>\n",
       "      <th>2</th>\n",
       "      <td>2017_Fall</td>\n",
       "      <td>128</td>\n",
       "      <td>0.955224</td>\n",
       "      <td>2</td>\n",
       "      <td>0.014925</td>\n",
       "    </tr>\n",
       "    <tr>\n",
       "      <th>3</th>\n",
       "      <td>2017_Spring</td>\n",
       "      <td>89</td>\n",
       "      <td>0.936842</td>\n",
       "      <td>0</td>\n",
       "      <td>0.000000</td>\n",
       "    </tr>\n",
       "    <tr>\n",
       "      <th>4</th>\n",
       "      <td>2017_Summer</td>\n",
       "      <td>53</td>\n",
       "      <td>0.602273</td>\n",
       "      <td>0</td>\n",
       "      <td>0.000000</td>\n",
       "    </tr>\n",
       "  </tbody>\n",
       "</table>\n",
       "</div>"
      ],
      "text/plain": [
       "  quarter_year  injured_sum  injured_mean  killed_sum  killed_mean\n",
       "0    2016_Fall          128      1.015873           0     0.000000\n",
       "1  2016_Summer           48      0.857143           2     0.035714\n",
       "2    2017_Fall          128      0.955224           2     0.014925\n",
       "3  2017_Spring           89      0.936842           0     0.000000\n",
       "4  2017_Summer           53      0.602273           0     0.000000"
      ]
     },
     "execution_count": 15,
     "metadata": {},
     "output_type": "execute_result"
    }
   ],
   "source": [
    "casualties = collision_data.copy()\n",
    "casualties = casualties.assign(quarter_year=casualties['year'].astype('str')\n",
    "                               + '_'\n",
    "                               + casualties['quarter']\n",
    "                               ).drop(columns=['quarter','year'])\n",
    "casualties_gb = casualties.groupby('quarter_year').agg({\n",
    "                'injured':[('injured_sum','sum'),('injured_mean','mean')],\n",
    "                'killed':[('killed_sum','sum'),('killed_mean','mean')]})\n",
    "casualties_gb.columns = ['injured_sum','injured_mean','killed_sum','killed_mean']\n",
    "casualties_gb = casualties_gb.reset_index()\n",
    "casualties_gb.head()"
   ]
  },
  {
   "cell_type": "markdown",
   "metadata": {},
   "source": [
    "Then we draw the distributions of each statistics per quarter:"
   ]
  },
  {
   "cell_type": "code",
   "execution_count": 16,
   "metadata": {},
   "outputs": [
    {
     "data": {
      "text/plain": [
       "<AxesSubplot:xlabel='killed_mean', ylabel='Count'>"
      ]
     },
     "execution_count": 16,
     "metadata": {},
     "output_type": "execute_result"
    },
    {
     "data": {
      "image/png": "[encoded data removed]",
      "text/plain": [
       "<Figure size 432x288 with 4 Axes>"
      ]
     },
     "metadata": {},
     "output_type": "display_data"
    }
   ],
   "source": [
    "sns.set(font_scale=1, style=\"white\")\n",
    "fig, ax = plt.subplots(2, 2, sharex=False, sharey=False)\n",
    "plt.subplots_adjust(wspace=0.5, hspace=0.5)\n",
    "fig.suptitle('Distributions of Injured and Killed per Quarter')\n",
    "sns.histplot(ax=ax[0][0], data=casualties_gb, x='injured_sum')\n",
    "sns.histplot(ax=ax[0][1], data=casualties_gb, x='killed_sum')\n",
    "sns.histplot(ax=ax[1][0], data=casualties_gb, x='injured_mean')\n",
    "sns.histplot(ax=ax[1][1], data=casualties_gb, x='killed_mean')"
   ]
  },
  {
   "cell_type": "markdown",
   "metadata": {},
   "source": [
    "We can see that the total injured per quarter ranges from 50 to 200 across different quarters, and the mean injured per collision per quarter is somewhat normally distributed with mean around 1. \n",
    "\n",
    "For the total killed per quarter, we can see that the distribution is very skewed. There are two outliers indicating some large numbers of killed in collisions within a single quarter. And the distribution of the mean killed per collision per quarter shows that these two outliers are not because there are many collisions happened in that quarter, but due to one (or a few) severe collisions."
   ]
  },
  {
   "cell_type": "markdown",
   "metadata": {},
   "source": [
    "## ETC AD NASEUM\n",
    "\n",
    "Some more words and stuff.  Remember notebooks work best if you interleave the code that generates a result with properly annotate figures and text that puts these results into context."
   ]
  },
  {
   "cell_type": "markdown",
   "metadata": {},
   "source": [
    "### count_collisions vs percent_occupied by quarter and year"
   ]
  },
  {
   "cell_type": "code",
   "execution_count": 91,
   "metadata": {},
   "outputs": [
    {
     "data": {
      "text/html": [
       "<div>\n",
       "<style scoped>\n",
       "    .dataframe tbody tr th:only-of-type {\n",
       "        vertical-align: middle;\n",
       "    }\n",
       "\n",
       "    .dataframe tbody tr th {\n",
       "        vertical-align: top;\n",
       "    }\n",
       "\n",
       "    .dataframe thead th {\n",
       "        text-align: right;\n",
       "    }\n",
       "</style>\n",
       "<table border=\"1\" class=\"dataframe\">\n",
       "  <thead>\n",
       "    <tr style=\"text-align: right;\">\n",
       "      <th></th>\n",
       "      <th>year</th>\n",
       "      <th>quarter</th>\n",
       "      <th>count_collisions</th>\n",
       "      <th>percent_occupied</th>\n",
       "    </tr>\n",
       "  </thead>\n",
       "  <tbody>\n",
       "    <tr>\n",
       "      <th>0</th>\n",
       "      <td>2016</td>\n",
       "      <td>Fall</td>\n",
       "      <td>126</td>\n",
       "      <td>81.41</td>\n",
       "    </tr>\n",
       "    <tr>\n",
       "      <th>1</th>\n",
       "      <td>2016</td>\n",
       "      <td>Summer</td>\n",
       "      <td>56</td>\n",
       "      <td>65.97</td>\n",
       "    </tr>\n",
       "    <tr>\n",
       "      <th>2</th>\n",
       "      <td>2017</td>\n",
       "      <td>Fall</td>\n",
       "      <td>134</td>\n",
       "      <td>87.16</td>\n",
       "    </tr>\n",
       "    <tr>\n",
       "      <th>3</th>\n",
       "      <td>2017</td>\n",
       "      <td>Spring</td>\n",
       "      <td>95</td>\n",
       "      <td>83.11</td>\n",
       "    </tr>\n",
       "    <tr>\n",
       "      <th>4</th>\n",
       "      <td>2017</td>\n",
       "      <td>Summer</td>\n",
       "      <td>88</td>\n",
       "      <td>72.07</td>\n",
       "    </tr>\n",
       "  </tbody>\n",
       "</table>\n",
       "</div>"
      ],
      "text/plain": [
       "   year quarter  count_collisions  percent_occupied\n",
       "0  2016    Fall               126             81.41\n",
       "1  2016  Summer                56             65.97\n",
       "2  2017    Fall               134             87.16\n",
       "3  2017  Spring                95             83.11\n",
       "4  2017  Summer                88             72.07"
      ]
     },
     "execution_count": 91,
     "metadata": {},
     "output_type": "execute_result"
    }
   ],
   "source": [
    "parking_percent = parking_data[['quarter','year','percent_occupied']]\n",
    "df = collision_data.groupby(['year','quarter']).count().reset_index().drop(['injured','killed'],axis=1)\n",
    "df = df.rename({'address_road_primary':'count_collisions'},axis=1)\n",
    "df = pd.merge(left=df,right=parking_percent,on=['year','quarter'],how='left')\n",
    "df.head()"
   ]
  },
  {
   "cell_type": "code",
   "execution_count": 92,
   "metadata": {},
   "outputs": [
    {
     "data": {
      "text/plain": [
       "<AxesSubplot:xlabel='count_collisions', ylabel='percent_occupied'>"
      ]
     },
     "execution_count": 92,
     "metadata": {},
     "output_type": "execute_result"
    },
    {
     "data": {
      "image/png": "[encoded data removed]",
      "text/plain": [
       "<Figure size 432x288 with 1 Axes>"
      ]
     },
     "metadata": {},
     "output_type": "display_data"
    }
   ],
   "source": [
    "sns.scatterplot(data=df, x='count_collisions', y='percent_occupied',hue='quarter')"
   ]
  },
  {
   "cell_type": "markdown",
   "metadata": {},
   "source": [
    "### Lineplot count_collisions & percent_occupied by quarter and year"
   ]
  },
  {
   "cell_type": "code",
   "execution_count": 104,
   "metadata": {},
   "outputs": [],
   "source": [
    "def quarter_num(s):\n",
    "    if s=='Fall': return 4\n",
    "    if s=='Winter': return 1\n",
    "    if s=='Spring': return 2\n",
    "    if s=='Summer': return 3"
   ]
  },
  {
   "cell_type": "code",
   "execution_count": 113,
   "metadata": {},
   "outputs": [
    {
     "data": {
      "text/html": [
       "<div>\n",
       "<style scoped>\n",
       "    .dataframe tbody tr th:only-of-type {\n",
       "        vertical-align: middle;\n",
       "    }\n",
       "\n",
       "    .dataframe tbody tr th {\n",
       "        vertical-align: top;\n",
       "    }\n",
       "\n",
       "    .dataframe thead th {\n",
       "        text-align: right;\n",
       "    }\n",
       "</style>\n",
       "<table border=\"1\" class=\"dataframe\">\n",
       "  <thead>\n",
       "    <tr style=\"text-align: right;\">\n",
       "      <th></th>\n",
       "      <th>year</th>\n",
       "      <th>quarter</th>\n",
       "      <th>count_collisions</th>\n",
       "      <th>percent_occupied</th>\n",
       "      <th>time</th>\n",
       "    </tr>\n",
       "  </thead>\n",
       "  <tbody>\n",
       "    <tr>\n",
       "      <th>1</th>\n",
       "      <td>2016</td>\n",
       "      <td>3</td>\n",
       "      <td>56</td>\n",
       "      <td>65.97</td>\n",
       "      <td>2016_3</td>\n",
       "    </tr>\n",
       "    <tr>\n",
       "      <th>0</th>\n",
       "      <td>2016</td>\n",
       "      <td>4</td>\n",
       "      <td>126</td>\n",
       "      <td>81.41</td>\n",
       "      <td>2016_4</td>\n",
       "    </tr>\n",
       "    <tr>\n",
       "      <th>5</th>\n",
       "      <td>2017</td>\n",
       "      <td>1</td>\n",
       "      <td>108</td>\n",
       "      <td>85.31</td>\n",
       "      <td>2017_1</td>\n",
       "    </tr>\n",
       "    <tr>\n",
       "      <th>3</th>\n",
       "      <td>2017</td>\n",
       "      <td>2</td>\n",
       "      <td>95</td>\n",
       "      <td>83.11</td>\n",
       "      <td>2017_2</td>\n",
       "    </tr>\n",
       "    <tr>\n",
       "      <th>4</th>\n",
       "      <td>2017</td>\n",
       "      <td>3</td>\n",
       "      <td>88</td>\n",
       "      <td>72.07</td>\n",
       "      <td>2017_3</td>\n",
       "    </tr>\n",
       "  </tbody>\n",
       "</table>\n",
       "</div>"
      ],
      "text/plain": [
       "   year  quarter  count_collisions  percent_occupied    time\n",
       "1  2016        3                56             65.97  2016_3\n",
       "0  2016        4               126             81.41  2016_4\n",
       "5  2017        1               108             85.31  2017_1\n",
       "3  2017        2                95             83.11  2017_2\n",
       "4  2017        3                88             72.07  2017_3"
      ]
     },
     "execution_count": 113,
     "metadata": {},
     "output_type": "execute_result"
    }
   ],
   "source": [
    "parking_percent = parking_data[['quarter','year','percent_occupied']]\n",
    "df = collision_data.groupby(['year','quarter']).count().reset_index().drop(['injured','killed'],axis=1)\n",
    "df = df.rename({'address_road_primary':'count_collisions'},axis=1)\n",
    "df = pd.merge(left=df,right=parking_percent,on=['year','quarter'],how='left')\n",
    "df['quarter'] = df['quarter'].apply(quarter_num)\n",
    "df = df.sort_values(['year','quarter'])\n",
    "df['time'] = df['year'].astype(str) +'_'+ df['quarter'].astype(str)\n",
    "df.head()"
   ]
  },
  {
   "cell_type": "code",
   "execution_count": 137,
   "metadata": {},
   "outputs": [
    {
     "data": {
      "text/plain": [
       "<AxesSubplot:>"
      ]
     },
     "execution_count": 137,
     "metadata": {},
     "output_type": "execute_result"
    },
    {
     "data": {
      "image/png": "[encoded data removed]",
      "text/plain": [
       "<Figure size 432x288 with 1 Axes>"
      ]
     },
     "metadata": {},
     "output_type": "display_data"
    }
   ],
   "source": [
    "plt.xticks(np.arange(-1,31,step=4), np.arange(2016,2024))\n",
    "sns.lineplot(data=df[['time','count_collisions','percent_occupied']])"
   ]
  },
  {
   "cell_type": "markdown",
   "metadata": {},
   "source": [
    "### median_collisions by quarter only"
   ]
  },
  {
   "cell_type": "code",
   "execution_count": 70,
   "metadata": {},
   "outputs": [
    {
     "data": {
      "text/html": [
       "<div>\n",
       "<style scoped>\n",
       "    .dataframe tbody tr th:only-of-type {\n",
       "        vertical-align: middle;\n",
       "    }\n",
       "\n",
       "    .dataframe tbody tr th {\n",
       "        vertical-align: top;\n",
       "    }\n",
       "\n",
       "    .dataframe thead th {\n",
       "        text-align: right;\n",
       "    }\n",
       "</style>\n",
       "<table border=\"1\" class=\"dataframe\">\n",
       "  <thead>\n",
       "    <tr style=\"text-align: right;\">\n",
       "      <th></th>\n",
       "      <th>quarter</th>\n",
       "      <th>median_collisions</th>\n",
       "      <th>percent_occupied</th>\n",
       "    </tr>\n",
       "  </thead>\n",
       "  <tbody>\n",
       "    <tr>\n",
       "      <th>0</th>\n",
       "      <td>Fall</td>\n",
       "      <td>134.0</td>\n",
       "      <td>80.660</td>\n",
       "    </tr>\n",
       "    <tr>\n",
       "      <th>1</th>\n",
       "      <td>Spring</td>\n",
       "      <td>100.0</td>\n",
       "      <td>82.000</td>\n",
       "    </tr>\n",
       "    <tr>\n",
       "      <th>2</th>\n",
       "      <td>Summer</td>\n",
       "      <td>97.0</td>\n",
       "      <td>67.495</td>\n",
       "    </tr>\n",
       "    <tr>\n",
       "      <th>3</th>\n",
       "      <td>Winter</td>\n",
       "      <td>102.0</td>\n",
       "      <td>85.000</td>\n",
       "    </tr>\n",
       "  </tbody>\n",
       "</table>\n",
       "</div>"
      ],
      "text/plain": [
       "  quarter  median_collisions  percent_occupied\n",
       "0    Fall              134.0            80.660\n",
       "1  Spring              100.0            82.000\n",
       "2  Summer               97.0            67.495\n",
       "3  Winter              102.0            85.000"
      ]
     },
     "execution_count": 70,
     "metadata": {},
     "output_type": "execute_result"
    }
   ],
   "source": [
    "parking_percent = parking_data[['quarter','percent_occupied']].groupby('quarter').median()\n",
    "df = collision_data.groupby(['year','quarter']).count().reset_index().drop(['year','injured','killed'],axis=1)\n",
    "df = df.groupby('quarter').median().reset_index()\n",
    "df = df.rename({'address_road_primary':'median_collisions'},axis=1)\n",
    "df = pd.merge(left=df,right=parking_percent,on=['quarter'],how='left')\n",
    "df"
   ]
  },
  {
   "cell_type": "code",
   "execution_count": 71,
   "metadata": {},
   "outputs": [
    {
     "data": {
      "text/plain": [
       "<AxesSubplot:xlabel='quarter', ylabel='median_collisions'>"
      ]
     },
     "execution_count": 71,
     "metadata": {},
     "output_type": "execute_result"
    },
    {
     "data": {
      "image/png": "[encoded data removed]",
      "text/plain": [
       "<Figure size 432x288 with 1 Axes>"
      ]
     },
     "metadata": {},
     "output_type": "display_data"
    }
   ],
   "source": [
    "sns.barplot(data=df, x='quarter', y='median_collisions')"
   ]
  },
  {
   "cell_type": "code",
   "execution_count": 72,
   "metadata": {},
   "outputs": [
    {
     "data": {
      "text/plain": [
       "<AxesSubplot:xlabel='median_collisions', ylabel='percent_occupied'>"
      ]
     },
     "execution_count": 72,
     "metadata": {},
     "output_type": "execute_result"
    },
    {
     "data": {
      "image/png": "[encoded data removed]",
      "text/plain": [
       "<Figure size 432x288 with 1 Axes>"
      ]
     },
     "metadata": {},
     "output_type": "display_data"
    }
   ],
   "source": [
    "sns.scatterplot(data=df, x='median_collisions', y='percent_occupied')"
   ]
  },
  {
   "cell_type": "markdown",
   "metadata": {},
   "source": [
    "### Barplot median_collisions by year only"
   ]
  },
  {
   "cell_type": "code",
   "execution_count": 85,
   "metadata": {},
   "outputs": [
    {
     "data": {
      "text/html": [
       "<div>\n",
       "<style scoped>\n",
       "    .dataframe tbody tr th:only-of-type {\n",
       "        vertical-align: middle;\n",
       "    }\n",
       "\n",
       "    .dataframe tbody tr th {\n",
       "        vertical-align: top;\n",
       "    }\n",
       "\n",
       "    .dataframe thead th {\n",
       "        text-align: right;\n",
       "    }\n",
       "</style>\n",
       "<table border=\"1\" class=\"dataframe\">\n",
       "  <thead>\n",
       "    <tr style=\"text-align: right;\">\n",
       "      <th></th>\n",
       "      <th>year</th>\n",
       "      <th>median_collisions</th>\n",
       "      <th>percent_occupied</th>\n",
       "    </tr>\n",
       "  </thead>\n",
       "  <tbody>\n",
       "    <tr>\n",
       "      <th>0</th>\n",
       "      <td>2016</td>\n",
       "      <td>91.0</td>\n",
       "      <td>73.690</td>\n",
       "    </tr>\n",
       "    <tr>\n",
       "      <th>1</th>\n",
       "      <td>2017</td>\n",
       "      <td>101.5</td>\n",
       "      <td>84.210</td>\n",
       "    </tr>\n",
       "    <tr>\n",
       "      <th>2</th>\n",
       "      <td>2018</td>\n",
       "      <td>100.0</td>\n",
       "      <td>84.315</td>\n",
       "    </tr>\n",
       "    <tr>\n",
       "      <th>3</th>\n",
       "      <td>2019</td>\n",
       "      <td>112.5</td>\n",
       "      <td>82.465</td>\n",
       "    </tr>\n",
       "    <tr>\n",
       "      <th>4</th>\n",
       "      <td>2020</td>\n",
       "      <td>81.5</td>\n",
       "      <td>46.905</td>\n",
       "    </tr>\n",
       "    <tr>\n",
       "      <th>5</th>\n",
       "      <td>2021</td>\n",
       "      <td>115.5</td>\n",
       "      <td>60.890</td>\n",
       "    </tr>\n",
       "    <tr>\n",
       "      <th>6</th>\n",
       "      <td>2022</td>\n",
       "      <td>106.5</td>\n",
       "      <td>72.730</td>\n",
       "    </tr>\n",
       "    <tr>\n",
       "      <th>7</th>\n",
       "      <td>2023</td>\n",
       "      <td>99.0</td>\n",
       "      <td>79.000</td>\n",
       "    </tr>\n",
       "  </tbody>\n",
       "</table>\n",
       "</div>"
      ],
      "text/plain": [
       "   year  median_collisions  percent_occupied\n",
       "0  2016               91.0            73.690\n",
       "1  2017              101.5            84.210\n",
       "2  2018              100.0            84.315\n",
       "3  2019              112.5            82.465\n",
       "4  2020               81.5            46.905\n",
       "5  2021              115.5            60.890\n",
       "6  2022              106.5            72.730\n",
       "7  2023               99.0            79.000"
      ]
     },
     "execution_count": 85,
     "metadata": {},
     "output_type": "execute_result"
    }
   ],
   "source": [
    "parking_percent = parking_data[['year','percent_occupied']].groupby('year').median()\n",
    "df = collision_data.groupby(['year','quarter']).count().reset_index().drop(['quarter','injured','killed'],axis=1)\n",
    "df = df.groupby('year').median().reset_index()\n",
    "df = df.rename({'address_road_primary':'median_collisions'},axis=1)\n",
    "df = pd.merge(left=df,right=parking_percent,on=['year'],how='left')\n",
    "df"
   ]
  },
  {
   "cell_type": "code",
   "execution_count": 88,
   "metadata": {},
   "outputs": [
    {
     "data": {
      "text/plain": [
       "<AxesSubplot:xlabel='year', ylabel='median_collisions'>"
      ]
     },
     "execution_count": 88,
     "metadata": {},
     "output_type": "execute_result"
    },
    {
     "data": {
      "image/png": "[encoded data removed]",
      "text/plain": [
       "<Figure size 432x288 with 1 Axes>"
      ]
     },
     "metadata": {},
     "output_type": "display_data"
    }
   ],
   "source": [
    "sns.barplot(data=df, x='year', y='median_collisions')"
   ]
  },
  {
   "cell_type": "markdown",
   "metadata": {},
   "source": [
    "# Ethics & Privacy"
   ]
  },
  {
   "cell_type": "markdown",
   "metadata": {},
   "source": [
    "Our proposed project involves the analysis of data related to parking occupancy on the UCSD campus and traffic incidents on nearby major roads. As we conduct our analysis, we are aware of the importance of ethical standards and privacy concerns. [Deon’s ethics checklist](https://deon.drivendata.org/#data-science-ethics-checklist) provides a useful framework for investigating potential ethics or privacy issues. \n",
    "\n",
    "In order to avoid potential bias within our datasets, we are only utilizing datasets that are public domain and published by reputable sources. For instance, our proposed dataset providing accident information is published by the San Diego government, and our proposed dataset with UCSD parking data is published by UCSD campus authorities. The traffic incident information is not directly collected from individuals, but instead published to public domain at the time of the accident when collected. We acknowledge that some information available in the dataset may be sensitive, though not personally identifying information (PII), and we are excluding this information from our analysis. The parking occupancy data is collected by [“cameras embedded with artificial intelligence”](https://today.ucsd.edu/story/parking-on-campus-theres-an-app-for-that#:~:text=IT%20Services%20enlisted%20student%20developers,which%20parking%20spaces%20are%20available). The parking occupancy data does not collect PII, and no PII information is published with the dataset. \n",
    "\n",
    "We acknowledge that there may be unintended consequences as a result of our data analysis. While inferences may be extracted from our conclusions, our data analysis does not aim to make a generalization about the safety of the roads surrounding UCSD. Our analysis intends to be informative about one facet that may contribute to road safety. Correlation does not elude causation, thus, we are simply exploring potential correlation between our datasets. Furthermore, confounds may be present within our data analysis. Relationships between holidays/events and parking/collisions may be present, which could influence our data analysis. Since the data from our first dataset is grouped by each academic quarter of UCSD, there may be outlier data points that we cannot account for because the data has been generalized to a period of roughly three months, and we cannot see any variations that month-to-month events might present. Lastly, our intent is not to influence drivers to shift their driving habits, but instead, to provide insight into potential relationships between driving habits. \n",
    "\n",
    "We aim to be transparent in our methodology, and will provide a summary and details of the steps we complete in our analysis, as well as any concerns that may arise throughout our process. Our project's primary goal is to contribute positively to public safety and traffic efficiency while minimizing any potential harm."
   ]
  },
  {
   "cell_type": "markdown",
   "metadata": {},
   "source": [
    "# Discusison and Conclusion\n",
    "\n",
    "Wrap it all up here.  Somewhere between 3 and 10 paragraphs roughly.  A good time to refer back to your Background section and review how this work extended the previous stuff. \n",
    "\n",
    "\n",
    "# Team Contributions\n",
    "\n",
    "Speficy who did what.  This should be pretty granular, perhaps bullet points, no more than a few sentences per person."
   ]
  }
 ],
 "metadata": {
  "kernelspec": {
   "display_name": "python3",
   "language": "python",
   "name": "python3"
  },
  "language_info": {
   "codemirror_mode": {
    "name": "ipython",
    "version": 3
   },
   "file_extension": ".py",
   "mimetype": "text/x-python",
   "name": "python",
   "nbconvert_exporter": "python",
   "pygments_lexer": "ipython3",
   "version": "3.9.7"
  }
 },
 "nbformat": 4,
 "nbformat_minor": 2
}
